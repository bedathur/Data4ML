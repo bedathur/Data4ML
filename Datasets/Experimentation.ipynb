{
 "cells": [
  {
   "cell_type": "code",
   "execution_count": 67,
   "metadata": {},
   "outputs": [],
   "source": [
    "import sys\n",
    "from random import sample\n",
    "import math"
   ]
  },
  {
   "cell_type": "code",
   "execution_count": 2,
   "metadata": {},
   "outputs": [
    {
     "name": "stdout",
     "output_type": "stream",
     "text": [
      "0 qid:10002 1:0.007477 2:0.000000 3:1.000000 4:0.000000 5:0.007470 6:0.000000 7:0.000000 8:0.000000 9:0.000000 10:0.000000 11:0.471076 12:0.000000 13:1.000000 14:0.000000 15:0.477541 16:0.005120 17:0.000000 18:0.571429 19:0.000000 20:0.004806 21:0.768561 22:0.727734 23:0.716277 24:0.582061 25:0.000000 26:0.000000 27:0.000000 28:0.000000 29:0.780495 30:0.962382 31:0.999274 32:0.961524 33:0.000000 34:0.000000 35:0.000000 36:0.000000 37:0.797056 38:0.697327 39:0.721953 40:0.582568 41:0.000000 42:0.000000 43:0.000000 44:0.000000 45:0.000000 46:0.007042 #docid = GX008-86-4444840 inc = 1 prob = 0.086622\n",
      "\n"
     ]
    }
   ],
   "source": [
    "fp = open('MQ2008/Fold1/train.txt', 'r')\n",
    "data = fp.readlines()\n",
    "print(data[0])"
   ]
  },
  {
   "cell_type": "code",
   "execution_count": 15,
   "metadata": {},
   "outputs": [
    {
     "name": "stdout",
     "output_type": "stream",
     "text": [
      "['0', 'qid:10002', '1:0.007477', '2:0.000000', '3:1.000000', '4:0.000000', '5:0.007470', '6:0.000000', '7:0.000000', '8:0.000000', '9:0.000000', '10:0.000000', '11:0.471076', '12:0.000000', '13:1.000000', '14:0.000000', '15:0.477541', '16:0.005120', '17:0.000000', '18:0.571429', '19:0.000000', '20:0.004806', '21:0.768561', '22:0.727734', '23:0.716277', '24:0.582061', '25:0.000000', '26:0.000000', '27:0.000000', '28:0.000000', '29:0.780495', '30:0.962382', '31:0.999274', '32:0.961524', '33:0.000000', '34:0.000000', '35:0.000000', '36:0.000000', '37:0.797056', '38:0.697327', '39:0.721953', '40:0.582568', '41:0.000000', '42:0.000000', '43:0.000000', '44:0.000000', '45:0.000000', '46:0.007042', '#docid', '=', 'GX008-86-4444840', 'inc', '=', '1', 'prob', '=', '0.086622']\n"
     ]
    }
   ],
   "source": [
    "print(data[0].split())"
   ]
  },
  {
   "cell_type": "code",
   "execution_count": 16,
   "metadata": {},
   "outputs": [],
   "source": [
    "def parse(line):\n",
    "    sl = line.split()\n",
    "    y = int(sl[0])\n",
    "    id = int(sl[1].split(':')[1])\n",
    "    X = []\n",
    "    for i in range(2, 48):\n",
    "        val = float(sl[i].split(':')[1])\n",
    "        X.append(val)\n",
    "    return id, X, y"
   ]
  },
  {
   "cell_type": "code",
   "execution_count": 48,
   "metadata": {},
   "outputs": [
    {
     "name": "stdout",
     "output_type": "stream",
     "text": [
      "10002\n",
      "[0.007477, 0.0, 1.0, 0.0, 0.00747, 0.0, 0.0, 0.0, 0.0, 0.0, 0.471076, 0.0, 1.0, 0.0, 0.477541, 0.00512, 0.0, 0.571429, 0.0, 0.004806, 0.768561, 0.727734, 0.716277, 0.582061, 0.0, 0.0, 0.0, 0.0, 0.780495, 0.962382, 0.999274, 0.961524, 0.0, 0.0, 0.0, 0.0, 0.797056, 0.697327, 0.721953, 0.582568, 0.0, 0.0, 0.0, 0.0, 0.0, 0.007042]\n",
      "0\n",
      "9630\n"
     ]
    }
   ],
   "source": [
    "id, X, y = parse(data[0])\n",
    "print(id)\n",
    "print(X)\n",
    "print(y)\n",
    "print(len(data))"
   ]
  },
  {
   "cell_type": "code",
   "execution_count": 30,
   "metadata": {},
   "outputs": [],
   "source": [
    "def populate(data):\n",
    "    relv = {}\n",
    "    not_relv = {}\n",
    "    relv_index = {}\n",
    "    not_relv_index = {}\n",
    "    index = 0\n",
    "    for line in data:\n",
    "        id, X, y = parse(line)\n",
    "        if y == 0:\n",
    "            if id in not_relv:\n",
    "                not_relv[id].append(X)\n",
    "                not_relv_index[id].append(index)\n",
    "            else:\n",
    "                not_relv[id] = [X]\n",
    "                not_relv_index[id] = [index]\n",
    "        else:\n",
    "            if id in relv:\n",
    "                relv[id].append(X)\n",
    "                relv_index[id].append(index)\n",
    "            else:\n",
    "                relv[id] = [X]\n",
    "                relv_index[id] = [index]\n",
    "        index += 1\n",
    "    return relv, not_relv, relv_index, not_relv_index"
   ]
  },
  {
   "cell_type": "code",
   "execution_count": 34,
   "metadata": {},
   "outputs": [],
   "source": [
    "relv, not_relv, relv_index, not_relv_index = populate(data)"
   ]
  },
  {
   "cell_type": "code",
   "execution_count": 40,
   "metadata": {},
   "outputs": [],
   "source": [
    "def intersection(lst1, lst2): \n",
    "    lst3 = [value for value in lst1 if value in lst2] \n",
    "    return lst3 "
   ]
  },
  {
   "cell_type": "code",
   "execution_count": 47,
   "metadata": {},
   "outputs": [
    {
     "name": "stdout",
     "output_type": "stream",
     "text": [
      "48086\n"
     ]
    }
   ],
   "source": [
    "relv_ids = relv.keys()\n",
    "not_relv_ids = not_relv.keys()\n",
    "both_ids = intersection(relv_ids, not_relv_ids)\n",
    "est = 0\n",
    "for id in both_ids:\n",
    "    est += (len(relv_index[id]) * len(not_relv_index[id]))\n",
    "print(est)"
   ]
  },
  {
   "cell_type": "code",
   "execution_count": 70,
   "metadata": {},
   "outputs": [],
   "source": [
    "def l2norm(X1, X2):\n",
    "    l2 = 0.00\n",
    "    for i in range(len(X1)):\n",
    "        l2 += ((X1[i] - X2[i])**2)\n",
    "    return math.sqrt(l2)"
   ]
  },
  {
   "cell_type": "code",
   "execution_count": 72,
   "metadata": {},
   "outputs": [
    {
     "name": "stdout",
     "output_type": "stream",
     "text": [
      "1.4142135623730951\n"
     ]
    }
   ],
   "source": [
    "print(l2norm([1, 1], [0, 0]))"
   ]
  },
  {
   "cell_type": "code",
   "execution_count": 78,
   "metadata": {},
   "outputs": [],
   "source": [
    "def most_similar_antidocs(relv, not_relv, relv_index, not_relv_index):\n",
    "    relv_ids = relv.keys()\n",
    "    not_relv_ids = not_relv.keys()\n",
    "    both_ids = intersection(relv_ids, not_relv_ids)\n",
    "    \n",
    "    similarity = []\n",
    "    \n",
    "    for id in both_ids:\n",
    "        relv_docs = relv[id]\n",
    "        relv_docs_index = relv_index[id]\n",
    "        not_relv_docs = not_relv[id]\n",
    "        not_relv_docs_index = not_relv_index[id]\n",
    "        \n",
    "        for i in range(len(relv_docs)):\n",
    "            for j in range(len(not_relv_docs)):\n",
    "                l2distance = l2norm(relv_docs[i], not_relv_docs[j])\n",
    "                similarity.append((relv_docs_index[i], not_relv_docs_index[j], l2distance))\n",
    "    \n",
    "    similarity = sorted(similarity, key=lambda x: x[2])\n",
    "    return similarity"
   ]
  },
  {
   "cell_type": "code",
   "execution_count": 90,
   "metadata": {},
   "outputs": [],
   "source": [
    "similarity = most_similar_antidocs(relv, not_relv, relv_index, not_relv_index)"
   ]
  },
  {
   "cell_type": "code",
   "execution_count": 96,
   "metadata": {},
   "outputs": [
    {
     "name": "stdout",
     "output_type": "stream",
     "text": [
      "[(357, 355, 0.0), (1225, 1236, 0.010101000198000195), (7946, 7947, 0.012665432325822923), (1226, 1236, 0.014362060611207568), (4361, 4365, 0.020870549944838553), (4361, 4364, 0.027902033241324946), (5372, 5347, 0.04609267598002967), (2359, 2364, 0.06667934650249657), (7945, 7947, 0.07145043232199508), (2467, 2466, 0.07175823207131012)]\n"
     ]
    }
   ],
   "source": [
    "print(similarity[:10])"
   ]
  },
  {
   "cell_type": "code",
   "execution_count": 91,
   "metadata": {},
   "outputs": [
    {
     "name": "stdout",
     "output_type": "stream",
     "text": [
      "1 qid:10215 1:0.003221 2:0.000000 3:0.500000 4:1.000000 5:0.008039 6:0.000000 7:0.000000 8:0.000000 9:0.000000 10:0.000000 11:0.003457 12:0.000000 13:0.500000 14:1.000000 15:0.008001 16:0.000415 17:0.000000 18:0.615385 19:0.500000 20:0.000543 21:0.847059 22:0.986161 23:0.504325 24:0.896206 25:0.000000 26:0.000000 27:0.000000 28:0.000000 29:0.669733 30:0.820917 31:0.747268 32:0.895892 33:0.759851 34:0.285643 35:0.332812 36:0.234224 37:0.924614 38:0.969873 39:0.599569 40:0.955341 41:0.428571 42:0.459459 43:0.000000 44:0.000000 45:0.000000 46:0.000000 #docid = GX034-46-12610504 inc = 0.0216422811225112 prob = 0.105398\n",
      "\n",
      "0 qid:10215 1:0.003221 2:0.000000 3:0.500000 4:1.000000 5:0.008039 6:0.000000 7:0.000000 8:0.000000 9:0.000000 10:0.000000 11:0.003457 12:0.000000 13:0.500000 14:1.000000 15:0.008001 16:0.000415 17:0.000000 18:0.615385 19:0.500000 20:0.000543 21:0.847059 22:0.986161 23:0.504325 24:0.896206 25:0.000000 26:0.000000 27:0.000000 28:0.000000 29:0.669733 30:0.820917 31:0.747268 32:0.895892 33:0.759851 34:0.285643 35:0.332812 36:0.234224 37:0.924614 38:0.969873 39:0.599569 40:0.955341 41:0.428571 42:0.459459 43:0.000000 44:0.000000 45:0.000000 46:0.000000 #docid = GX033-32-9569359 inc = 0.0318204798926973 prob = 0.120476\n",
      "\n"
     ]
    }
   ],
   "source": [
    "print(data[357])\n",
    "print(data[355])"
   ]
  },
  {
   "cell_type": "code",
   "execution_count": 92,
   "metadata": {},
   "outputs": [],
   "source": [
    "def choosing_flips(similarity, num):\n",
    "    flipped_indexes = []\n",
    "    flipped_num = 0\n",
    "    id = 0\n",
    "    while flipped_num < num:\n",
    "        not_relv_ind = similarity[id][1]\n",
    "        if not_relv_ind not in flipped_indexes:\n",
    "            flipped_indexes.append(not_relv_ind)\n",
    "            flipped_num += 1\n",
    "        id += 1\n",
    "    return flipped_indexes"
   ]
  },
  {
   "cell_type": "code",
   "execution_count": 110,
   "metadata": {},
   "outputs": [
    {
     "name": "stdout",
     "output_type": "stream",
     "text": [
      "[]\n"
     ]
    }
   ],
   "source": [
    "flipped = choosing_flips(similarity, int(len(data)*0))\n",
    "flipped.sort()\n",
    "print(flipped)"
   ]
  },
  {
   "cell_type": "code",
   "execution_count": 111,
   "metadata": {},
   "outputs": [],
   "source": [
    "def flip(data, flipped):\n",
    "    for f in flipped:\n",
    "        actual_label = int(data[f][0])\n",
    "        if actual_label == 0:\n",
    "            flipped_char = '1'\n",
    "        else:\n",
    "            flipped_char = '0'\n",
    "        data[f] = flipped_char + data[f][1:] "
   ]
  },
  {
   "cell_type": "code",
   "execution_count": 112,
   "metadata": {},
   "outputs": [
    {
     "name": "stdout",
     "output_type": "stream",
     "text": [
      "0 qid:10078 1:0.162500 2:0.000000 3:0.000000 4:0.000000 5:0.162500 6:0.000000 7:0.000000 8:0.000000 9:0.000000 10:0.000000 11:0.163564 12:0.000000 13:0.000000 14:0.000000 15:0.163399 16:0.056837 17:0.000000 18:0.000000 19:0.380952 20:0.056762 21:0.581070 22:0.656250 23:0.694322 24:0.694835 25:0.000000 26:0.000000 27:0.000000 28:0.000000 29:0.000000 30:0.000000 31:0.000000 32:0.000000 33:0.000000 34:0.000000 35:0.000000 36:0.000000 37:0.584774 38:0.636051 39:0.697604 40:0.679162 41:0.500000 42:0.333333 43:0.000000 44:0.000000 45:0.000000 46:0.000000 #docid = GX269-47-0755600 inc = 0.0195516609085524 prob = 0.0897966\n",
      "\n"
     ]
    }
   ],
   "source": [
    "print(data[177])"
   ]
  },
  {
   "cell_type": "code",
   "execution_count": 113,
   "metadata": {},
   "outputs": [
    {
     "name": "stdout",
     "output_type": "stream",
     "text": [
      "0 qid:10078 1:0.162500 2:0.000000 3:0.000000 4:0.000000 5:0.162500 6:0.000000 7:0.000000 8:0.000000 9:0.000000 10:0.000000 11:0.163564 12:0.000000 13:0.000000 14:0.000000 15:0.163399 16:0.056837 17:0.000000 18:0.000000 19:0.380952 20:0.056762 21:0.581070 22:0.656250 23:0.694322 24:0.694835 25:0.000000 26:0.000000 27:0.000000 28:0.000000 29:0.000000 30:0.000000 31:0.000000 32:0.000000 33:0.000000 34:0.000000 35:0.000000 36:0.000000 37:0.584774 38:0.636051 39:0.697604 40:0.679162 41:0.500000 42:0.333333 43:0.000000 44:0.000000 45:0.000000 46:0.000000 #docid = GX269-47-0755600 inc = 0.0195516609085524 prob = 0.0897966\n",
      "\n"
     ]
    }
   ],
   "source": [
    "flip(data, flipped)\n",
    "print(data[177])"
   ]
  },
  {
   "cell_type": "code",
   "execution_count": null,
   "metadata": {},
   "outputs": [],
   "source": []
  }
 ],
 "metadata": {
  "kernelspec": {
   "display_name": "Python 3",
   "language": "python",
   "name": "python3"
  },
  "language_info": {
   "codemirror_mode": {
    "name": "ipython",
    "version": 3
   },
   "file_extension": ".py",
   "mimetype": "text/x-python",
   "name": "python",
   "nbconvert_exporter": "python",
   "pygments_lexer": "ipython3",
   "version": "3.7.4"
  }
 },
 "nbformat": 4,
 "nbformat_minor": 2
}
